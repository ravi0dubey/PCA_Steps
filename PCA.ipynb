{
 "cells": [
  {
   "cell_type": "code",
   "execution_count": 1,
   "id": "36eb50ea",
   "metadata": {},
   "outputs": [],
   "source": [
    "import pandas as pd\n",
    "import numpy as np\n",
    "import matplotlib.pyplot as plt\n",
    "from scipy.linalg import eig"
   ]
  },
  {
   "cell_type": "code",
   "execution_count": 2,
   "id": "0a2bb689",
   "metadata": {},
   "outputs": [],
   "source": [
    "data = np.array([[3,4],[2,8],[6,9],[10,12]])"
   ]
  },
  {
   "cell_type": "code",
   "execution_count": 3,
   "id": "8549ce2f",
   "metadata": {},
   "outputs": [
    {
     "data": {
      "text/html": [
       "<div>\n",
       "<style scoped>\n",
       "    .dataframe tbody tr th:only-of-type {\n",
       "        vertical-align: middle;\n",
       "    }\n",
       "\n",
       "    .dataframe tbody tr th {\n",
       "        vertical-align: top;\n",
       "    }\n",
       "\n",
       "    .dataframe thead th {\n",
       "        text-align: right;\n",
       "    }\n",
       "</style>\n",
       "<table border=\"1\" class=\"dataframe\">\n",
       "  <thead>\n",
       "    <tr style=\"text-align: right;\">\n",
       "      <th></th>\n",
       "      <th>col1</th>\n",
       "      <th>col2</th>\n",
       "    </tr>\n",
       "  </thead>\n",
       "  <tbody>\n",
       "    <tr>\n",
       "      <th>0</th>\n",
       "      <td>3</td>\n",
       "      <td>4</td>\n",
       "    </tr>\n",
       "    <tr>\n",
       "      <th>1</th>\n",
       "      <td>2</td>\n",
       "      <td>8</td>\n",
       "    </tr>\n",
       "    <tr>\n",
       "      <th>2</th>\n",
       "      <td>6</td>\n",
       "      <td>9</td>\n",
       "    </tr>\n",
       "    <tr>\n",
       "      <th>3</th>\n",
       "      <td>10</td>\n",
       "      <td>12</td>\n",
       "    </tr>\n",
       "  </tbody>\n",
       "</table>\n",
       "</div>"
      ],
      "text/plain": [
       "   col1  col2\n",
       "0     3     4\n",
       "1     2     8\n",
       "2     6     9\n",
       "3    10    12"
      ]
     },
     "execution_count": 3,
     "metadata": {},
     "output_type": "execute_result"
    }
   ],
   "source": [
    "data = pd.DataFrame(data,columns= [\"col1\",\"col2\"])\n",
    "data"
   ]
  },
  {
   "cell_type": "code",
   "execution_count": 4,
   "id": "4d694d48",
   "metadata": {},
   "outputs": [
    {
     "data": {
      "text/plain": [
       "<matplotlib.collections.PathCollection at 0x27f2769e790>"
      ]
     },
     "execution_count": 4,
     "metadata": {},
     "output_type": "execute_result"
    },
    {
     "data": {
      "image/png": "[encoded data removed]",
      "text/plain": [
       "<Figure size 432x288 with 1 Axes>"
      ]
     },
     "metadata": {
      "needs_background": "light"
     },
     "output_type": "display_data"
    }
   ],
   "source": [
    "plt.scatter(data[\"col1\"],data[\"col2\"])"
   ]
  },
  {
   "cell_type": "markdown",
   "id": "0f35176f",
   "metadata": {},
   "source": [
    "# Steps for PCA \n",
    "1. Standardization of the data\n",
    "2. Covariance Matrix\n",
    "3. Eig Value and Eig Vector\n",
    "4. Find Principal Component"
   ]
  },
  {
   "cell_type": "markdown",
   "id": "bc0b01c6",
   "metadata": {},
   "source": [
    "### 1.1  Standardization of data without using Standard Scaler"
   ]
  },
  {
   "cell_type": "code",
   "execution_count": 5,
   "id": "33629877",
   "metadata": {},
   "outputs": [
    {
     "data": {
      "text/plain": [
       "col1    5.25\n",
       "col2    8.25\n",
       "dtype: float64"
      ]
     },
     "execution_count": 5,
     "metadata": {},
     "output_type": "execute_result"
    }
   ],
   "source": [
    "# get Average value of each column\n",
    "mean_by_col= np.mean(data,axis=0)\n",
    "mean_by_col"
   ]
  },
  {
   "cell_type": "code",
   "execution_count": 6,
   "id": "8a5e30ec",
   "metadata": {},
   "outputs": [
    {
     "data": {
      "text/plain": [
       "col1    3.112475\n",
       "col2    2.861381\n",
       "dtype: float64"
      ]
     },
     "execution_count": 6,
     "metadata": {},
     "output_type": "execute_result"
    }
   ],
   "source": [
    "# get standard deviation of each column\n",
    "std_by_col= np.std(data,axis=0)\n",
    "std_by_col"
   ]
  },
  {
   "cell_type": "code",
   "execution_count": 7,
   "id": "c921c33e",
   "metadata": {},
   "outputs": [
    {
     "data": {
      "text/html": [
       "<div>\n",
       "<style scoped>\n",
       "    .dataframe tbody tr th:only-of-type {\n",
       "        vertical-align: middle;\n",
       "    }\n",
       "\n",
       "    .dataframe tbody tr th {\n",
       "        vertical-align: top;\n",
       "    }\n",
       "\n",
       "    .dataframe thead th {\n",
       "        text-align: right;\n",
       "    }\n",
       "</style>\n",
       "<table border=\"1\" class=\"dataframe\">\n",
       "  <thead>\n",
       "    <tr style=\"text-align: right;\">\n",
       "      <th></th>\n",
       "      <th>col1</th>\n",
       "      <th>col2</th>\n",
       "    </tr>\n",
       "  </thead>\n",
       "  <tbody>\n",
       "    <tr>\n",
       "      <th>0</th>\n",
       "      <td>-0.722897</td>\n",
       "      <td>-1.485297</td>\n",
       "    </tr>\n",
       "    <tr>\n",
       "      <th>1</th>\n",
       "      <td>-1.044185</td>\n",
       "      <td>-0.087370</td>\n",
       "    </tr>\n",
       "    <tr>\n",
       "      <th>2</th>\n",
       "      <td>0.240966</td>\n",
       "      <td>0.262111</td>\n",
       "    </tr>\n",
       "    <tr>\n",
       "      <th>3</th>\n",
       "      <td>1.526117</td>\n",
       "      <td>1.310556</td>\n",
       "    </tr>\n",
       "  </tbody>\n",
       "</table>\n",
       "</div>"
      ],
      "text/plain": [
       "       col1      col2\n",
       "0 -0.722897 -1.485297\n",
       "1 -1.044185 -0.087370\n",
       "2  0.240966  0.262111\n",
       "3  1.526117  1.310556"
      ]
     },
     "execution_count": 7,
     "metadata": {},
     "output_type": "execute_result"
    }
   ],
   "source": [
    "# From each point of the dateset substract mean of each column and then divide by standard deviation\n",
    "scaled_data = (data - mean_by_col)/std_by_col\n",
    "scaled_data"
   ]
  },
  {
   "cell_type": "markdown",
   "id": "3c308a9f",
   "metadata": {},
   "source": [
    "### 1.2. Standardization of data using Standard Scaler"
   ]
  },
  {
   "cell_type": "code",
   "execution_count": 8,
   "id": "862825d8",
   "metadata": {},
   "outputs": [],
   "source": [
    "from sklearn.preprocessing import StandardScaler\n",
    "scaler = StandardScaler()"
   ]
  },
  {
   "cell_type": "code",
   "execution_count": 9,
   "id": "0462544f",
   "metadata": {},
   "outputs": [
    {
     "data": {
      "text/plain": [
       "array([[-0.7228974 , -1.4852969 ],\n",
       "       [-1.04418513, -0.08737041],\n",
       "       [ 0.2409658 ,  0.26211122],\n",
       "       [ 1.52611672,  1.31055608]])"
      ]
     },
     "execution_count": 9,
     "metadata": {},
     "output_type": "execute_result"
    }
   ],
   "source": [
    "scaler_data = scaler.fit_transform(data)\n",
    "scaler_data"
   ]
  },
  {
   "cell_type": "code",
   "execution_count": 10,
   "id": "3fab9981",
   "metadata": {},
   "outputs": [
    {
     "data": {
      "text/html": [
       "<div>\n",
       "<style scoped>\n",
       "    .dataframe tbody tr th:only-of-type {\n",
       "        vertical-align: middle;\n",
       "    }\n",
       "\n",
       "    .dataframe tbody tr th {\n",
       "        vertical-align: top;\n",
       "    }\n",
       "\n",
       "    .dataframe thead th {\n",
       "        text-align: right;\n",
       "    }\n",
       "</style>\n",
       "<table border=\"1\" class=\"dataframe\">\n",
       "  <thead>\n",
       "    <tr style=\"text-align: right;\">\n",
       "      <th></th>\n",
       "      <th>col1</th>\n",
       "      <th>col2</th>\n",
       "    </tr>\n",
       "  </thead>\n",
       "  <tbody>\n",
       "    <tr>\n",
       "      <th>0</th>\n",
       "      <td>-0.722897</td>\n",
       "      <td>-1.485297</td>\n",
       "    </tr>\n",
       "    <tr>\n",
       "      <th>1</th>\n",
       "      <td>-1.044185</td>\n",
       "      <td>-0.087370</td>\n",
       "    </tr>\n",
       "    <tr>\n",
       "      <th>2</th>\n",
       "      <td>0.240966</td>\n",
       "      <td>0.262111</td>\n",
       "    </tr>\n",
       "    <tr>\n",
       "      <th>3</th>\n",
       "      <td>1.526117</td>\n",
       "      <td>1.310556</td>\n",
       "    </tr>\n",
       "  </tbody>\n",
       "</table>\n",
       "</div>"
      ],
      "text/plain": [
       "       col1      col2\n",
       "0 -0.722897 -1.485297\n",
       "1 -1.044185 -0.087370\n",
       "2  0.240966  0.262111\n",
       "3  1.526117  1.310556"
      ]
     },
     "execution_count": 10,
     "metadata": {},
     "output_type": "execute_result"
    }
   ],
   "source": [
    "scaled_data1= pd.DataFrame(scaler_data, columns =[\"col1\",\"col2\"])\n",
    "scaled_data1"
   ]
  },
  {
   "cell_type": "markdown",
   "id": "e4fa3205",
   "metadata": {},
   "source": [
    "### Step 2: Covariance Matrix"
   ]
  },
  {
   "cell_type": "code",
   "execution_count": 22,
   "id": "b20a7f22",
   "metadata": {},
   "outputs": [
    {
     "data": {
      "text/plain": [
       "array([[1.33333333, 1.07605651],\n",
       "       [1.07605651, 1.33333333]])"
      ]
     },
     "execution_count": 22,
     "metadata": {},
     "output_type": "execute_result"
    }
   ],
   "source": [
    "cov_matrix=  np.cov(scaled_data.T)\n",
    "cov_matrix"
   ]
  },
  {
   "cell_type": "markdown",
   "id": "b7add9a0",
   "metadata": {},
   "source": [
    "### Step 3: Eigen Value and Eigen Vector"
   ]
  },
  {
   "cell_type": "code",
   "execution_count": 23,
   "id": "4617e033",
   "metadata": {},
   "outputs": [],
   "source": [
    "eig_val, eig_vec = np.linalg.eig(cov_matrix)"
   ]
  },
  {
   "cell_type": "code",
   "execution_count": 24,
   "id": "137ed735",
   "metadata": {},
   "outputs": [
    {
     "data": {
      "text/plain": [
       "array([2.40938985, 0.25727682])"
      ]
     },
     "execution_count": 24,
     "metadata": {},
     "output_type": "execute_result"
    }
   ],
   "source": [
    "eig_val"
   ]
  },
  {
   "cell_type": "code",
   "execution_count": 25,
   "id": "9c97f560",
   "metadata": {},
   "outputs": [
    {
     "data": {
      "text/plain": [
       "array([[ 0.70710678, -0.70710678],\n",
       "       [ 0.70710678,  0.70710678]])"
      ]
     },
     "execution_count": 25,
     "metadata": {},
     "output_type": "execute_result"
    }
   ],
   "source": [
    "eig_vec"
   ]
  },
  {
   "cell_type": "code",
   "execution_count": 27,
   "id": "be92bdb3",
   "metadata": {},
   "outputs": [
    {
     "data": {
      "text/plain": [
       "array([[-1.56142916, -0.53909786],\n",
       "       [-0.80013059,  0.67657018],\n",
       "       [ 0.35572917,  0.01495207],\n",
       "       [ 2.00583058, -0.15242439]])"
      ]
     },
     "execution_count": 27,
     "metadata": {},
     "output_type": "execute_result"
    }
   ],
   "source": [
    "eig_vec.T.dot(scaled_data.T).T"
   ]
  },
  {
   "cell_type": "markdown",
   "id": "f043f1ff",
   "metadata": {},
   "source": [
    "### Performing Step2 and Step3 using  Sci-Kit Learn library"
   ]
  },
  {
   "cell_type": "code",
   "execution_count": 28,
   "id": "5ed684e7",
   "metadata": {},
   "outputs": [],
   "source": [
    "from sklearn.decomposition import PCA\n",
    "pca= PCA()"
   ]
  },
  {
   "cell_type": "code",
   "execution_count": 30,
   "id": "7af44dc3",
   "metadata": {},
   "outputs": [
    {
     "data": {
      "text/plain": [
       "array([[-1.56142916, -0.53909786],\n",
       "       [-0.80013059,  0.67657018],\n",
       "       [ 0.35572917,  0.01495207],\n",
       "       [ 2.00583058, -0.15242439]])"
      ]
     },
     "execution_count": 30,
     "metadata": {},
     "output_type": "execute_result"
    }
   ],
   "source": [
    "pc= pca.fit_transform(scaled_data1)\n",
    "pc"
   ]
  },
  {
   "cell_type": "code",
   "execution_count": 32,
   "id": "44ccbc39",
   "metadata": {},
   "outputs": [
    {
     "data": {
      "text/html": [
       "<div>\n",
       "<style scoped>\n",
       "    .dataframe tbody tr th:only-of-type {\n",
       "        vertical-align: middle;\n",
       "    }\n",
       "\n",
       "    .dataframe tbody tr th {\n",
       "        vertical-align: top;\n",
       "    }\n",
       "\n",
       "    .dataframe thead th {\n",
       "        text-align: right;\n",
       "    }\n",
       "</style>\n",
       "<table border=\"1\" class=\"dataframe\">\n",
       "  <thead>\n",
       "    <tr style=\"text-align: right;\">\n",
       "      <th></th>\n",
       "      <th>pc1</th>\n",
       "      <th>pc2</th>\n",
       "    </tr>\n",
       "  </thead>\n",
       "  <tbody>\n",
       "    <tr>\n",
       "      <th>0</th>\n",
       "      <td>-1.561429</td>\n",
       "      <td>-0.539098</td>\n",
       "    </tr>\n",
       "    <tr>\n",
       "      <th>1</th>\n",
       "      <td>-0.800131</td>\n",
       "      <td>0.676570</td>\n",
       "    </tr>\n",
       "    <tr>\n",
       "      <th>2</th>\n",
       "      <td>0.355729</td>\n",
       "      <td>0.014952</td>\n",
       "    </tr>\n",
       "    <tr>\n",
       "      <th>3</th>\n",
       "      <td>2.005831</td>\n",
       "      <td>-0.152424</td>\n",
       "    </tr>\n",
       "  </tbody>\n",
       "</table>\n",
       "</div>"
      ],
      "text/plain": [
       "        pc1       pc2\n",
       "0 -1.561429 -0.539098\n",
       "1 -0.800131  0.676570\n",
       "2  0.355729  0.014952\n",
       "3  2.005831 -0.152424"
      ]
     },
     "execution_count": 32,
     "metadata": {},
     "output_type": "execute_result"
    }
   ],
   "source": [
    "pd.DataFrame(pc, columns=[\"pc1\",\"pc2\"])"
   ]
  },
  {
   "cell_type": "code",
   "execution_count": 34,
   "id": "41ae29c5",
   "metadata": {},
   "outputs": [
    {
     "data": {
      "text/plain": [
       "array([[-0.7228974 , -1.4852969 ],\n",
       "       [-1.04418513, -0.08737041],\n",
       "       [ 0.2409658 ,  0.26211122],\n",
       "       [ 1.52611672,  1.31055608]])"
      ]
     },
     "execution_count": 34,
     "metadata": {},
     "output_type": "execute_result"
    }
   ],
   "source": [
    "# If we do inverse transform we will get scaled data after Step1\n",
    "\n",
    "pc_inverse= pca.inverse_transform(pc)\n",
    "pc_inverse"
   ]
  },
  {
   "cell_type": "code",
   "execution_count": 35,
   "id": "b509c5f7",
   "metadata": {},
   "outputs": [
    {
     "data": {
      "text/plain": [
       "array([0.90352119, 0.09647881])"
      ]
     },
     "execution_count": 35,
     "metadata": {},
     "output_type": "execute_result"
    }
   ],
   "source": [
    "# explained variance ratio\n",
    "pca.explained_variance_ratio_"
   ]
  },
  {
   "cell_type": "markdown",
   "id": "4a12fa62",
   "metadata": {},
   "source": [
    "#### Note: First Principal component is representing 90% of the data while second is representing 10% of the data "
   ]
  },
  {
   "cell_type": "markdown",
   "id": "d54d9970",
   "metadata": {},
   "source": [
    "## Performing PCA on glass Dataset "
   ]
  },
  {
   "cell_type": "code",
   "execution_count": 81,
   "id": "ce6a2011",
   "metadata": {},
   "outputs": [
    {
     "data": {
      "text/html": [
       "<div>\n",
       "<style scoped>\n",
       "    .dataframe tbody tr th:only-of-type {\n",
       "        vertical-align: middle;\n",
       "    }\n",
       "\n",
       "    .dataframe tbody tr th {\n",
       "        vertical-align: top;\n",
       "    }\n",
       "\n",
       "    .dataframe thead th {\n",
       "        text-align: right;\n",
       "    }\n",
       "</style>\n",
       "<table border=\"1\" class=\"dataframe\">\n",
       "  <thead>\n",
       "    <tr style=\"text-align: right;\">\n",
       "      <th></th>\n",
       "      <th>Id</th>\n",
       "      <th>RI</th>\n",
       "      <th>Na</th>\n",
       "      <th>Mg</th>\n",
       "      <th>Al</th>\n",
       "      <th>Si</th>\n",
       "      <th>Ka</th>\n",
       "      <th>Ca</th>\n",
       "      <th>Ba</th>\n",
       "      <th>Fe</th>\n",
       "      <th>Type</th>\n",
       "    </tr>\n",
       "  </thead>\n",
       "  <tbody>\n",
       "    <tr>\n",
       "      <th>0</th>\n",
       "      <td>1</td>\n",
       "      <td>1.51763</td>\n",
       "      <td>12.61</td>\n",
       "      <td>3.59</td>\n",
       "      <td>1.31</td>\n",
       "      <td>73.29</td>\n",
       "      <td>0.58</td>\n",
       "      <td>8.50</td>\n",
       "      <td>0.00</td>\n",
       "      <td>0.0</td>\n",
       "      <td>1</td>\n",
       "    </tr>\n",
       "    <tr>\n",
       "      <th>1</th>\n",
       "      <td>2</td>\n",
       "      <td>1.51761</td>\n",
       "      <td>12.81</td>\n",
       "      <td>3.54</td>\n",
       "      <td>1.23</td>\n",
       "      <td>73.24</td>\n",
       "      <td>0.58</td>\n",
       "      <td>8.39</td>\n",
       "      <td>0.00</td>\n",
       "      <td>0.0</td>\n",
       "      <td>1</td>\n",
       "    </tr>\n",
       "    <tr>\n",
       "      <th>2</th>\n",
       "      <td>3</td>\n",
       "      <td>1.51784</td>\n",
       "      <td>12.68</td>\n",
       "      <td>3.67</td>\n",
       "      <td>1.16</td>\n",
       "      <td>73.11</td>\n",
       "      <td>0.61</td>\n",
       "      <td>8.70</td>\n",
       "      <td>0.00</td>\n",
       "      <td>0.0</td>\n",
       "      <td>1</td>\n",
       "    </tr>\n",
       "    <tr>\n",
       "      <th>3</th>\n",
       "      <td>4</td>\n",
       "      <td>1.52196</td>\n",
       "      <td>14.36</td>\n",
       "      <td>3.85</td>\n",
       "      <td>0.89</td>\n",
       "      <td>71.36</td>\n",
       "      <td>0.15</td>\n",
       "      <td>9.15</td>\n",
       "      <td>0.00</td>\n",
       "      <td>0.0</td>\n",
       "      <td>1</td>\n",
       "    </tr>\n",
       "    <tr>\n",
       "      <th>4</th>\n",
       "      <td>5</td>\n",
       "      <td>1.51911</td>\n",
       "      <td>13.90</td>\n",
       "      <td>3.73</td>\n",
       "      <td>1.18</td>\n",
       "      <td>72.12</td>\n",
       "      <td>0.06</td>\n",
       "      <td>8.89</td>\n",
       "      <td>0.00</td>\n",
       "      <td>0.0</td>\n",
       "      <td>1</td>\n",
       "    </tr>\n",
       "    <tr>\n",
       "      <th>...</th>\n",
       "      <td>...</td>\n",
       "      <td>...</td>\n",
       "      <td>...</td>\n",
       "      <td>...</td>\n",
       "      <td>...</td>\n",
       "      <td>...</td>\n",
       "      <td>...</td>\n",
       "      <td>...</td>\n",
       "      <td>...</td>\n",
       "      <td>...</td>\n",
       "      <td>...</td>\n",
       "    </tr>\n",
       "    <tr>\n",
       "      <th>180</th>\n",
       "      <td>195</td>\n",
       "      <td>1.51640</td>\n",
       "      <td>14.37</td>\n",
       "      <td>0.00</td>\n",
       "      <td>2.74</td>\n",
       "      <td>72.85</td>\n",
       "      <td>0.00</td>\n",
       "      <td>9.45</td>\n",
       "      <td>0.54</td>\n",
       "      <td>0.0</td>\n",
       "      <td>7</td>\n",
       "    </tr>\n",
       "    <tr>\n",
       "      <th>181</th>\n",
       "      <td>196</td>\n",
       "      <td>1.51623</td>\n",
       "      <td>14.14</td>\n",
       "      <td>0.00</td>\n",
       "      <td>2.88</td>\n",
       "      <td>72.61</td>\n",
       "      <td>0.08</td>\n",
       "      <td>9.18</td>\n",
       "      <td>1.06</td>\n",
       "      <td>0.0</td>\n",
       "      <td>7</td>\n",
       "    </tr>\n",
       "    <tr>\n",
       "      <th>182</th>\n",
       "      <td>198</td>\n",
       "      <td>1.52065</td>\n",
       "      <td>14.36</td>\n",
       "      <td>0.00</td>\n",
       "      <td>2.02</td>\n",
       "      <td>73.42</td>\n",
       "      <td>0.00</td>\n",
       "      <td>8.44</td>\n",
       "      <td>1.64</td>\n",
       "      <td>0.0</td>\n",
       "      <td>7</td>\n",
       "    </tr>\n",
       "    <tr>\n",
       "      <th>183</th>\n",
       "      <td>199</td>\n",
       "      <td>1.51651</td>\n",
       "      <td>14.38</td>\n",
       "      <td>0.00</td>\n",
       "      <td>1.94</td>\n",
       "      <td>73.61</td>\n",
       "      <td>0.00</td>\n",
       "      <td>8.48</td>\n",
       "      <td>1.57</td>\n",
       "      <td>0.0</td>\n",
       "      <td>7</td>\n",
       "    </tr>\n",
       "    <tr>\n",
       "      <th>184</th>\n",
       "      <td>200</td>\n",
       "      <td>1.51711</td>\n",
       "      <td>14.23</td>\n",
       "      <td>0.00</td>\n",
       "      <td>2.08</td>\n",
       "      <td>73.36</td>\n",
       "      <td>0.00</td>\n",
       "      <td>8.62</td>\n",
       "      <td>1.67</td>\n",
       "      <td>0.0</td>\n",
       "      <td>7</td>\n",
       "    </tr>\n",
       "  </tbody>\n",
       "</table>\n",
       "<p>185 rows × 11 columns</p>\n",
       "</div>"
      ],
      "text/plain": [
       "      Id       RI     Na    Mg    Al     Si    Ka    Ca    Ba   Fe  Type\n",
       "0      1  1.51763  12.61  3.59  1.31  73.29  0.58  8.50  0.00  0.0     1\n",
       "1      2  1.51761  12.81  3.54  1.23  73.24  0.58  8.39  0.00  0.0     1\n",
       "2      3  1.51784  12.68  3.67  1.16  73.11  0.61  8.70  0.00  0.0     1\n",
       "3      4  1.52196  14.36  3.85  0.89  71.36  0.15  9.15  0.00  0.0     1\n",
       "4      5  1.51911  13.90  3.73  1.18  72.12  0.06  8.89  0.00  0.0     1\n",
       "..   ...      ...    ...   ...   ...    ...   ...   ...   ...  ...   ...\n",
       "180  195  1.51640  14.37  0.00  2.74  72.85  0.00  9.45  0.54  0.0     7\n",
       "181  196  1.51623  14.14  0.00  2.88  72.61  0.08  9.18  1.06  0.0     7\n",
       "182  198  1.52065  14.36  0.00  2.02  73.42  0.00  8.44  1.64  0.0     7\n",
       "183  199  1.51651  14.38  0.00  1.94  73.61  0.00  8.48  1.57  0.0     7\n",
       "184  200  1.51711  14.23  0.00  2.08  73.36  0.00  8.62  1.67  0.0     7\n",
       "\n",
       "[185 rows x 11 columns]"
      ]
     },
     "execution_count": 81,
     "metadata": {},
     "output_type": "execute_result"
    }
   ],
   "source": [
    "data_glass= pd.read_csv(\"D:\\Study\\Data Science\\Dataset\\glassm-data.csv\")\n",
    "data_glass"
   ]
  },
  {
   "cell_type": "code",
   "execution_count": 82,
   "id": "92a0f4e2",
   "metadata": {},
   "outputs": [],
   "source": [
    "# drop ID column as it does not make sense\n",
    "# drop Type as PCA is only performed on independent column\n",
    "data_glass.drop([\"Id\",\"Type\"], axis=1, inplace = True)"
   ]
  },
  {
   "cell_type": "code",
   "execution_count": 83,
   "id": "e53f84a2",
   "metadata": {},
   "outputs": [
    {
     "data": {
      "text/html": [
       "<div>\n",
       "<style scoped>\n",
       "    .dataframe tbody tr th:only-of-type {\n",
       "        vertical-align: middle;\n",
       "    }\n",
       "\n",
       "    .dataframe tbody tr th {\n",
       "        vertical-align: top;\n",
       "    }\n",
       "\n",
       "    .dataframe thead th {\n",
       "        text-align: right;\n",
       "    }\n",
       "</style>\n",
       "<table border=\"1\" class=\"dataframe\">\n",
       "  <thead>\n",
       "    <tr style=\"text-align: right;\">\n",
       "      <th></th>\n",
       "      <th>RI</th>\n",
       "      <th>Na</th>\n",
       "      <th>Mg</th>\n",
       "      <th>Al</th>\n",
       "      <th>Si</th>\n",
       "      <th>Ka</th>\n",
       "      <th>Ca</th>\n",
       "      <th>Ba</th>\n",
       "      <th>Fe</th>\n",
       "    </tr>\n",
       "  </thead>\n",
       "  <tbody>\n",
       "    <tr>\n",
       "      <th>0</th>\n",
       "      <td>1.51763</td>\n",
       "      <td>12.61</td>\n",
       "      <td>3.59</td>\n",
       "      <td>1.31</td>\n",
       "      <td>73.29</td>\n",
       "      <td>0.58</td>\n",
       "      <td>8.50</td>\n",
       "      <td>0.00</td>\n",
       "      <td>0.0</td>\n",
       "    </tr>\n",
       "    <tr>\n",
       "      <th>1</th>\n",
       "      <td>1.51761</td>\n",
       "      <td>12.81</td>\n",
       "      <td>3.54</td>\n",
       "      <td>1.23</td>\n",
       "      <td>73.24</td>\n",
       "      <td>0.58</td>\n",
       "      <td>8.39</td>\n",
       "      <td>0.00</td>\n",
       "      <td>0.0</td>\n",
       "    </tr>\n",
       "    <tr>\n",
       "      <th>2</th>\n",
       "      <td>1.51784</td>\n",
       "      <td>12.68</td>\n",
       "      <td>3.67</td>\n",
       "      <td>1.16</td>\n",
       "      <td>73.11</td>\n",
       "      <td>0.61</td>\n",
       "      <td>8.70</td>\n",
       "      <td>0.00</td>\n",
       "      <td>0.0</td>\n",
       "    </tr>\n",
       "    <tr>\n",
       "      <th>3</th>\n",
       "      <td>1.52196</td>\n",
       "      <td>14.36</td>\n",
       "      <td>3.85</td>\n",
       "      <td>0.89</td>\n",
       "      <td>71.36</td>\n",
       "      <td>0.15</td>\n",
       "      <td>9.15</td>\n",
       "      <td>0.00</td>\n",
       "      <td>0.0</td>\n",
       "    </tr>\n",
       "    <tr>\n",
       "      <th>4</th>\n",
       "      <td>1.51911</td>\n",
       "      <td>13.90</td>\n",
       "      <td>3.73</td>\n",
       "      <td>1.18</td>\n",
       "      <td>72.12</td>\n",
       "      <td>0.06</td>\n",
       "      <td>8.89</td>\n",
       "      <td>0.00</td>\n",
       "      <td>0.0</td>\n",
       "    </tr>\n",
       "    <tr>\n",
       "      <th>...</th>\n",
       "      <td>...</td>\n",
       "      <td>...</td>\n",
       "      <td>...</td>\n",
       "      <td>...</td>\n",
       "      <td>...</td>\n",
       "      <td>...</td>\n",
       "      <td>...</td>\n",
       "      <td>...</td>\n",
       "      <td>...</td>\n",
       "    </tr>\n",
       "    <tr>\n",
       "      <th>180</th>\n",
       "      <td>1.51640</td>\n",
       "      <td>14.37</td>\n",
       "      <td>0.00</td>\n",
       "      <td>2.74</td>\n",
       "      <td>72.85</td>\n",
       "      <td>0.00</td>\n",
       "      <td>9.45</td>\n",
       "      <td>0.54</td>\n",
       "      <td>0.0</td>\n",
       "    </tr>\n",
       "    <tr>\n",
       "      <th>181</th>\n",
       "      <td>1.51623</td>\n",
       "      <td>14.14</td>\n",
       "      <td>0.00</td>\n",
       "      <td>2.88</td>\n",
       "      <td>72.61</td>\n",
       "      <td>0.08</td>\n",
       "      <td>9.18</td>\n",
       "      <td>1.06</td>\n",
       "      <td>0.0</td>\n",
       "    </tr>\n",
       "    <tr>\n",
       "      <th>182</th>\n",
       "      <td>1.52065</td>\n",
       "      <td>14.36</td>\n",
       "      <td>0.00</td>\n",
       "      <td>2.02</td>\n",
       "      <td>73.42</td>\n",
       "      <td>0.00</td>\n",
       "      <td>8.44</td>\n",
       "      <td>1.64</td>\n",
       "      <td>0.0</td>\n",
       "    </tr>\n",
       "    <tr>\n",
       "      <th>183</th>\n",
       "      <td>1.51651</td>\n",
       "      <td>14.38</td>\n",
       "      <td>0.00</td>\n",
       "      <td>1.94</td>\n",
       "      <td>73.61</td>\n",
       "      <td>0.00</td>\n",
       "      <td>8.48</td>\n",
       "      <td>1.57</td>\n",
       "      <td>0.0</td>\n",
       "    </tr>\n",
       "    <tr>\n",
       "      <th>184</th>\n",
       "      <td>1.51711</td>\n",
       "      <td>14.23</td>\n",
       "      <td>0.00</td>\n",
       "      <td>2.08</td>\n",
       "      <td>73.36</td>\n",
       "      <td>0.00</td>\n",
       "      <td>8.62</td>\n",
       "      <td>1.67</td>\n",
       "      <td>0.0</td>\n",
       "    </tr>\n",
       "  </tbody>\n",
       "</table>\n",
       "<p>185 rows × 9 columns</p>\n",
       "</div>"
      ],
      "text/plain": [
       "          RI     Na    Mg    Al     Si    Ka    Ca    Ba   Fe\n",
       "0    1.51763  12.61  3.59  1.31  73.29  0.58  8.50  0.00  0.0\n",
       "1    1.51761  12.81  3.54  1.23  73.24  0.58  8.39  0.00  0.0\n",
       "2    1.51784  12.68  3.67  1.16  73.11  0.61  8.70  0.00  0.0\n",
       "3    1.52196  14.36  3.85  0.89  71.36  0.15  9.15  0.00  0.0\n",
       "4    1.51911  13.90  3.73  1.18  72.12  0.06  8.89  0.00  0.0\n",
       "..       ...    ...   ...   ...    ...   ...   ...   ...  ...\n",
       "180  1.51640  14.37  0.00  2.74  72.85  0.00  9.45  0.54  0.0\n",
       "181  1.51623  14.14  0.00  2.88  72.61  0.08  9.18  1.06  0.0\n",
       "182  1.52065  14.36  0.00  2.02  73.42  0.00  8.44  1.64  0.0\n",
       "183  1.51651  14.38  0.00  1.94  73.61  0.00  8.48  1.57  0.0\n",
       "184  1.51711  14.23  0.00  2.08  73.36  0.00  8.62  1.67  0.0\n",
       "\n",
       "[185 rows x 9 columns]"
      ]
     },
     "execution_count": 83,
     "metadata": {},
     "output_type": "execute_result"
    }
   ],
   "source": [
    "data_glass"
   ]
  },
  {
   "cell_type": "code",
   "execution_count": 84,
   "id": "8a751e4d",
   "metadata": {},
   "outputs": [],
   "source": [
    "#Step 1: Scaling of the dataset\n",
    "\n",
    "from sklearn.preprocessing import StandardScaler\n",
    "scaler_glass = StandardScaler()"
   ]
  },
  {
   "cell_type": "code",
   "execution_count": 85,
   "id": "668479a9",
   "metadata": {},
   "outputs": [
    {
     "data": {
      "text/plain": [
       "array([[-0.25394066, -0.97997081,  0.67135289, ..., -0.35057427,\n",
       "        -0.36847955, -0.57821446],\n",
       "       [-0.26026142, -0.74417111,  0.63760832, ..., -0.42438129,\n",
       "        -0.36847955, -0.57821446],\n",
       "       [-0.18757272, -0.89744091,  0.72534421, ..., -0.21637969,\n",
       "        -0.36847955, -0.57821446],\n",
       "       ...,\n",
       "       [ 0.70049356,  1.08327657, -1.75150764, ..., -0.39083264,\n",
       "         2.79140441, -0.57821446],\n",
       "       [-0.60790302,  1.10685654, -1.75150764, ..., -0.36399373,\n",
       "         2.65653132, -0.57821446],\n",
       "       [-0.41828033,  0.93000676, -1.75150764, ..., -0.27005752,\n",
       "         2.84920717, -0.57821446]])"
      ]
     },
     "execution_count": 85,
     "metadata": {},
     "output_type": "execute_result"
    }
   ],
   "source": [
    "scaler_data = scaler_glass.fit_transform(data_glass)\n",
    "scaler_data"
   ]
  },
  {
   "cell_type": "code",
   "execution_count": 91,
   "id": "33d6aef6",
   "metadata": {},
   "outputs": [
    {
     "data": {
      "text/html": [
       "<div>\n",
       "<style scoped>\n",
       "    .dataframe tbody tr th:only-of-type {\n",
       "        vertical-align: middle;\n",
       "    }\n",
       "\n",
       "    .dataframe tbody tr th {\n",
       "        vertical-align: top;\n",
       "    }\n",
       "\n",
       "    .dataframe thead th {\n",
       "        text-align: right;\n",
       "    }\n",
       "</style>\n",
       "<table border=\"1\" class=\"dataframe\">\n",
       "  <thead>\n",
       "    <tr style=\"text-align: right;\">\n",
       "      <th></th>\n",
       "      <th>RI</th>\n",
       "      <th>Na</th>\n",
       "      <th>Mg</th>\n",
       "      <th>Al</th>\n",
       "      <th>Si</th>\n",
       "      <th>Ka</th>\n",
       "      <th>Ca</th>\n",
       "      <th>Ba</th>\n",
       "      <th>Fe</th>\n",
       "    </tr>\n",
       "  </thead>\n",
       "  <tbody>\n",
       "    <tr>\n",
       "      <th>0</th>\n",
       "      <td>-0.253941</td>\n",
       "      <td>-0.979971</td>\n",
       "      <td>0.671353</td>\n",
       "      <td>-0.277352</td>\n",
       "      <td>0.821435</td>\n",
       "      <td>0.124273</td>\n",
       "      <td>-0.350574</td>\n",
       "      <td>-0.368480</td>\n",
       "      <td>-0.578214</td>\n",
       "    </tr>\n",
       "    <tr>\n",
       "      <th>1</th>\n",
       "      <td>-0.260261</td>\n",
       "      <td>-0.744171</td>\n",
       "      <td>0.637608</td>\n",
       "      <td>-0.430631</td>\n",
       "      <td>0.759645</td>\n",
       "      <td>0.124273</td>\n",
       "      <td>-0.424381</td>\n",
       "      <td>-0.368480</td>\n",
       "      <td>-0.578214</td>\n",
       "    </tr>\n",
       "    <tr>\n",
       "      <th>2</th>\n",
       "      <td>-0.187573</td>\n",
       "      <td>-0.897441</td>\n",
       "      <td>0.725344</td>\n",
       "      <td>-0.564749</td>\n",
       "      <td>0.598992</td>\n",
       "      <td>0.167407</td>\n",
       "      <td>-0.216380</td>\n",
       "      <td>-0.368480</td>\n",
       "      <td>-0.578214</td>\n",
       "    </tr>\n",
       "    <tr>\n",
       "      <th>3</th>\n",
       "      <td>1.114503</td>\n",
       "      <td>1.083277</td>\n",
       "      <td>0.846825</td>\n",
       "      <td>-1.082065</td>\n",
       "      <td>-1.563645</td>\n",
       "      <td>-0.493983</td>\n",
       "      <td>0.085558</td>\n",
       "      <td>-0.368480</td>\n",
       "      <td>-0.578214</td>\n",
       "    </tr>\n",
       "    <tr>\n",
       "      <th>4</th>\n",
       "      <td>0.213795</td>\n",
       "      <td>0.540937</td>\n",
       "      <td>0.765838</td>\n",
       "      <td>-0.526430</td>\n",
       "      <td>-0.624443</td>\n",
       "      <td>-0.623385</td>\n",
       "      <td>-0.088895</td>\n",
       "      <td>-0.368480</td>\n",
       "      <td>-0.578214</td>\n",
       "    </tr>\n",
       "    <tr>\n",
       "      <th>...</th>\n",
       "      <td>...</td>\n",
       "      <td>...</td>\n",
       "      <td>...</td>\n",
       "      <td>...</td>\n",
       "      <td>...</td>\n",
       "      <td>...</td>\n",
       "      <td>...</td>\n",
       "      <td>...</td>\n",
       "      <td>...</td>\n",
       "    </tr>\n",
       "    <tr>\n",
       "      <th>180</th>\n",
       "      <td>-0.642667</td>\n",
       "      <td>1.095067</td>\n",
       "      <td>-1.751508</td>\n",
       "      <td>2.462507</td>\n",
       "      <td>0.277686</td>\n",
       "      <td>-0.709653</td>\n",
       "      <td>0.286850</td>\n",
       "      <td>0.671970</td>\n",
       "      <td>-0.578214</td>\n",
       "    </tr>\n",
       "    <tr>\n",
       "      <th>181</th>\n",
       "      <td>-0.696394</td>\n",
       "      <td>0.823897</td>\n",
       "      <td>-1.751508</td>\n",
       "      <td>2.730745</td>\n",
       "      <td>-0.018904</td>\n",
       "      <td>-0.594629</td>\n",
       "      <td>0.105687</td>\n",
       "      <td>1.673884</td>\n",
       "      <td>-0.578214</td>\n",
       "    </tr>\n",
       "    <tr>\n",
       "      <th>182</th>\n",
       "      <td>0.700494</td>\n",
       "      <td>1.083277</td>\n",
       "      <td>-1.751508</td>\n",
       "      <td>1.082998</td>\n",
       "      <td>0.982088</td>\n",
       "      <td>-0.709653</td>\n",
       "      <td>-0.390833</td>\n",
       "      <td>2.791404</td>\n",
       "      <td>-0.578214</td>\n",
       "    </tr>\n",
       "    <tr>\n",
       "      <th>183</th>\n",
       "      <td>-0.607903</td>\n",
       "      <td>1.106857</td>\n",
       "      <td>-1.751508</td>\n",
       "      <td>0.929719</td>\n",
       "      <td>1.216888</td>\n",
       "      <td>-0.709653</td>\n",
       "      <td>-0.363994</td>\n",
       "      <td>2.656531</td>\n",
       "      <td>-0.578214</td>\n",
       "    </tr>\n",
       "    <tr>\n",
       "      <th>184</th>\n",
       "      <td>-0.418280</td>\n",
       "      <td>0.930007</td>\n",
       "      <td>-1.751508</td>\n",
       "      <td>1.197957</td>\n",
       "      <td>0.907940</td>\n",
       "      <td>-0.709653</td>\n",
       "      <td>-0.270058</td>\n",
       "      <td>2.849207</td>\n",
       "      <td>-0.578214</td>\n",
       "    </tr>\n",
       "  </tbody>\n",
       "</table>\n",
       "<p>185 rows × 9 columns</p>\n",
       "</div>"
      ],
      "text/plain": [
       "           RI        Na        Mg        Al        Si        Ka        Ca  \\\n",
       "0   -0.253941 -0.979971  0.671353 -0.277352  0.821435  0.124273 -0.350574   \n",
       "1   -0.260261 -0.744171  0.637608 -0.430631  0.759645  0.124273 -0.424381   \n",
       "2   -0.187573 -0.897441  0.725344 -0.564749  0.598992  0.167407 -0.216380   \n",
       "3    1.114503  1.083277  0.846825 -1.082065 -1.563645 -0.493983  0.085558   \n",
       "4    0.213795  0.540937  0.765838 -0.526430 -0.624443 -0.623385 -0.088895   \n",
       "..        ...       ...       ...       ...       ...       ...       ...   \n",
       "180 -0.642667  1.095067 -1.751508  2.462507  0.277686 -0.709653  0.286850   \n",
       "181 -0.696394  0.823897 -1.751508  2.730745 -0.018904 -0.594629  0.105687   \n",
       "182  0.700494  1.083277 -1.751508  1.082998  0.982088 -0.709653 -0.390833   \n",
       "183 -0.607903  1.106857 -1.751508  0.929719  1.216888 -0.709653 -0.363994   \n",
       "184 -0.418280  0.930007 -1.751508  1.197957  0.907940 -0.709653 -0.270058   \n",
       "\n",
       "           Ba        Fe  \n",
       "0   -0.368480 -0.578214  \n",
       "1   -0.368480 -0.578214  \n",
       "2   -0.368480 -0.578214  \n",
       "3   -0.368480 -0.578214  \n",
       "4   -0.368480 -0.578214  \n",
       "..        ...       ...  \n",
       "180  0.671970 -0.578214  \n",
       "181  1.673884 -0.578214  \n",
       "182  2.791404 -0.578214  \n",
       "183  2.656531 -0.578214  \n",
       "184  2.849207 -0.578214  \n",
       "\n",
       "[185 rows x 9 columns]"
      ]
     },
     "execution_count": 91,
     "metadata": {},
     "output_type": "execute_result"
    }
   ],
   "source": [
    "# showing scaled data of glass\n",
    "\n",
    "scaled_data_glass = pd.DataFrame(scaler_data, columns =data_glass.columns )\n",
    "scaled_data_glass"
   ]
  },
  {
   "cell_type": "code",
   "execution_count": 92,
   "id": "79a77d9e",
   "metadata": {},
   "outputs": [
    {
     "data": {
      "text/plain": [
       "array([[-0.05921841, -1.18701074, -0.24152989, ...,  0.03590552,\n",
       "        -0.16421117, -0.0231837 ],\n",
       "       [-0.08724836, -1.17499077, -0.33774635, ...,  0.17626492,\n",
       "        -0.15144278,  0.01286904],\n",
       "       [ 0.18977839, -1.18525971, -0.21029641, ...,  0.20505643,\n",
       "        -0.01712918, -0.04545293],\n",
       "       ...,\n",
       "       [-1.70876411,  3.00842509, -0.89491087, ...,  0.68251043,\n",
       "        -0.84506999,  0.03943289],\n",
       "       [-2.3507088 ,  2.47813472, -1.2120431 , ...,  0.67648003,\n",
       "         0.07881144, -0.02663198],\n",
       "       [-2.25376959,  2.74470934, -0.87415286, ...,  0.47506014,\n",
       "         0.06869029, -0.01842894]])"
      ]
     },
     "execution_count": 92,
     "metadata": {},
     "output_type": "execute_result"
    }
   ],
   "source": [
    "#Step 2: PCA of the dataset\n",
    "\n",
    "from sklearn.decomposition import PCA\n",
    "pca= PCA()\n",
    "pc_df= pca.fit_transform(scaled_data_glass)\n",
    "pc_df"
   ]
  },
  {
   "cell_type": "code",
   "execution_count": 93,
   "id": "c8d50caa",
   "metadata": {},
   "outputs": [
    {
     "data": {
      "text/html": [
       "<div>\n",
       "<style scoped>\n",
       "    .dataframe tbody tr th:only-of-type {\n",
       "        vertical-align: middle;\n",
       "    }\n",
       "\n",
       "    .dataframe tbody tr th {\n",
       "        vertical-align: top;\n",
       "    }\n",
       "\n",
       "    .dataframe thead th {\n",
       "        text-align: right;\n",
       "    }\n",
       "</style>\n",
       "<table border=\"1\" class=\"dataframe\">\n",
       "  <thead>\n",
       "    <tr style=\"text-align: right;\">\n",
       "      <th></th>\n",
       "      <th>0</th>\n",
       "      <th>1</th>\n",
       "      <th>2</th>\n",
       "      <th>3</th>\n",
       "      <th>4</th>\n",
       "      <th>5</th>\n",
       "      <th>6</th>\n",
       "      <th>7</th>\n",
       "      <th>8</th>\n",
       "    </tr>\n",
       "  </thead>\n",
       "  <tbody>\n",
       "    <tr>\n",
       "      <th>0</th>\n",
       "      <td>-0.059218</td>\n",
       "      <td>-1.187011</td>\n",
       "      <td>-0.241530</td>\n",
       "      <td>0.740070</td>\n",
       "      <td>-0.473438</td>\n",
       "      <td>0.751133</td>\n",
       "      <td>0.035906</td>\n",
       "      <td>-0.164211</td>\n",
       "      <td>-0.023184</td>\n",
       "    </tr>\n",
       "    <tr>\n",
       "      <th>1</th>\n",
       "      <td>-0.087248</td>\n",
       "      <td>-1.174991</td>\n",
       "      <td>-0.337746</td>\n",
       "      <td>0.540213</td>\n",
       "      <td>-0.477835</td>\n",
       "      <td>0.616127</td>\n",
       "      <td>0.176265</td>\n",
       "      <td>-0.151443</td>\n",
       "      <td>0.012869</td>\n",
       "    </tr>\n",
       "    <tr>\n",
       "      <th>2</th>\n",
       "      <td>0.189778</td>\n",
       "      <td>-1.185260</td>\n",
       "      <td>-0.210296</td>\n",
       "      <td>0.537624</td>\n",
       "      <td>-0.553946</td>\n",
       "      <td>0.681184</td>\n",
       "      <td>0.205056</td>\n",
       "      <td>-0.017129</td>\n",
       "      <td>-0.045453</td>\n",
       "    </tr>\n",
       "    <tr>\n",
       "      <th>3</th>\n",
       "      <td>1.339123</td>\n",
       "      <td>-0.003426</td>\n",
       "      <td>-0.246790</td>\n",
       "      <td>-2.166832</td>\n",
       "      <td>-0.904555</td>\n",
       "      <td>-0.280366</td>\n",
       "      <td>0.104325</td>\n",
       "      <td>-0.104722</td>\n",
       "      <td>0.044873</td>\n",
       "    </tr>\n",
       "    <tr>\n",
       "      <th>4</th>\n",
       "      <td>0.493163</td>\n",
       "      <td>-0.387949</td>\n",
       "      <td>-0.545822</td>\n",
       "      <td>-1.155935</td>\n",
       "      <td>-0.590748</td>\n",
       "      <td>0.030288</td>\n",
       "      <td>-0.270799</td>\n",
       "      <td>0.085430</td>\n",
       "      <td>-0.012411</td>\n",
       "    </tr>\n",
       "    <tr>\n",
       "      <th>...</th>\n",
       "      <td>...</td>\n",
       "      <td>...</td>\n",
       "      <td>...</td>\n",
       "      <td>...</td>\n",
       "      <td>...</td>\n",
       "      <td>...</td>\n",
       "      <td>...</td>\n",
       "      <td>...</td>\n",
       "      <td>...</td>\n",
       "    </tr>\n",
       "    <tr>\n",
       "      <th>180</th>\n",
       "      <td>-2.005495</td>\n",
       "      <td>2.348145</td>\n",
       "      <td>-0.471258</td>\n",
       "      <td>0.482037</td>\n",
       "      <td>0.026228</td>\n",
       "      <td>-0.508122</td>\n",
       "      <td>-1.393981</td>\n",
       "      <td>0.006832</td>\n",
       "      <td>-0.020897</td>\n",
       "    </tr>\n",
       "    <tr>\n",
       "      <th>181</th>\n",
       "      <td>-2.379092</td>\n",
       "      <td>2.781045</td>\n",
       "      <td>0.035379</td>\n",
       "      <td>0.285853</td>\n",
       "      <td>0.254992</td>\n",
       "      <td>0.239301</td>\n",
       "      <td>-1.247276</td>\n",
       "      <td>0.184508</td>\n",
       "      <td>-0.023810</td>\n",
       "    </tr>\n",
       "    <tr>\n",
       "      <th>182</th>\n",
       "      <td>-1.708764</td>\n",
       "      <td>3.008425</td>\n",
       "      <td>-0.894911</td>\n",
       "      <td>-0.074470</td>\n",
       "      <td>0.589883</td>\n",
       "      <td>1.159991</td>\n",
       "      <td>0.682510</td>\n",
       "      <td>-0.845070</td>\n",
       "      <td>0.039433</td>\n",
       "    </tr>\n",
       "    <tr>\n",
       "      <th>183</th>\n",
       "      <td>-2.350709</td>\n",
       "      <td>2.478135</td>\n",
       "      <td>-1.212043</td>\n",
       "      <td>0.225879</td>\n",
       "      <td>0.717069</td>\n",
       "      <td>0.932445</td>\n",
       "      <td>0.676480</td>\n",
       "      <td>0.078811</td>\n",
       "      <td>-0.026632</td>\n",
       "    </tr>\n",
       "    <tr>\n",
       "      <th>184</th>\n",
       "      <td>-2.253770</td>\n",
       "      <td>2.744709</td>\n",
       "      <td>-0.874153</td>\n",
       "      <td>0.151144</td>\n",
       "      <td>0.697922</td>\n",
       "      <td>1.130587</td>\n",
       "      <td>0.475060</td>\n",
       "      <td>0.068690</td>\n",
       "      <td>-0.018429</td>\n",
       "    </tr>\n",
       "  </tbody>\n",
       "</table>\n",
       "<p>185 rows × 9 columns</p>\n",
       "</div>"
      ],
      "text/plain": [
       "            0         1         2         3         4         5         6  \\\n",
       "0   -0.059218 -1.187011 -0.241530  0.740070 -0.473438  0.751133  0.035906   \n",
       "1   -0.087248 -1.174991 -0.337746  0.540213 -0.477835  0.616127  0.176265   \n",
       "2    0.189778 -1.185260 -0.210296  0.537624 -0.553946  0.681184  0.205056   \n",
       "3    1.339123 -0.003426 -0.246790 -2.166832 -0.904555 -0.280366  0.104325   \n",
       "4    0.493163 -0.387949 -0.545822 -1.155935 -0.590748  0.030288 -0.270799   \n",
       "..        ...       ...       ...       ...       ...       ...       ...   \n",
       "180 -2.005495  2.348145 -0.471258  0.482037  0.026228 -0.508122 -1.393981   \n",
       "181 -2.379092  2.781045  0.035379  0.285853  0.254992  0.239301 -1.247276   \n",
       "182 -1.708764  3.008425 -0.894911 -0.074470  0.589883  1.159991  0.682510   \n",
       "183 -2.350709  2.478135 -1.212043  0.225879  0.717069  0.932445  0.676480   \n",
       "184 -2.253770  2.744709 -0.874153  0.151144  0.697922  1.130587  0.475060   \n",
       "\n",
       "            7         8  \n",
       "0   -0.164211 -0.023184  \n",
       "1   -0.151443  0.012869  \n",
       "2   -0.017129 -0.045453  \n",
       "3   -0.104722  0.044873  \n",
       "4    0.085430 -0.012411  \n",
       "..        ...       ...  \n",
       "180  0.006832 -0.020897  \n",
       "181  0.184508 -0.023810  \n",
       "182 -0.845070  0.039433  \n",
       "183  0.078811 -0.026632  \n",
       "184  0.068690 -0.018429  \n",
       "\n",
       "[185 rows x 9 columns]"
      ]
     },
     "execution_count": 93,
     "metadata": {},
     "output_type": "execute_result"
    }
   ],
   "source": [
    "pd.DataFrame(pc_df)"
   ]
  },
  {
   "cell_type": "code",
   "execution_count": 95,
   "id": "a7151464",
   "metadata": {},
   "outputs": [
    {
     "data": {
      "text/plain": [
       "array([2.84168597e-01, 2.21784556e-01, 1.57610377e-01, 1.26049115e-01,\n",
       "       1.02716891e-01, 5.97184976e-02, 4.13313588e-02, 6.49608910e-03,\n",
       "       1.24518082e-04])"
      ]
     },
     "execution_count": 95,
     "metadata": {},
     "output_type": "execute_result"
    }
   ],
   "source": [
    "# explained variance ratio\n",
    "pca_variance= pca.explained_variance_ratio_\n",
    "pca_variance"
   ]
  },
  {
   "cell_type": "code",
   "execution_count": 98,
   "id": "efc9f1c3",
   "metadata": {},
   "outputs": [
    {
     "data": {
      "text/plain": [
       "0.2841685965460476"
      ]
     },
     "execution_count": 98,
     "metadata": {},
     "output_type": "execute_result"
    }
   ],
   "source": [
    "# Maximum value of the variance\n",
    "max(pca_variance)"
   ]
  },
  {
   "cell_type": "code",
   "execution_count": 99,
   "id": "d5992654",
   "metadata": {},
   "outputs": [
    {
     "data": {
      "text/plain": [
       "0.00012451808198488"
      ]
     },
     "execution_count": 99,
     "metadata": {},
     "output_type": "execute_result"
    }
   ],
   "source": [
    "# Minimum value of the variance\n",
    "min(pca_variance)"
   ]
  },
  {
   "cell_type": "code",
   "execution_count": 100,
   "id": "2bfe979f",
   "metadata": {},
   "outputs": [
    {
     "data": {
      "text/plain": [
       "1.0"
      ]
     },
     "execution_count": 100,
     "metadata": {},
     "output_type": "execute_result"
    }
   ],
   "source": [
    "# Sum value of the variance\n",
    "sum(pca_variance)"
   ]
  },
  {
   "cell_type": "code",
   "execution_count": 104,
   "id": "927247c1",
   "metadata": {},
   "outputs": [
    {
     "data": {
      "text/plain": [
       "[0.2841685965460476,\n",
       " 0.22178455619923956,\n",
       " 0.1576103771158251,\n",
       " 0.12604911523409376,\n",
       " 0.10271689131889569,\n",
       " 0.05971849755767253,\n",
       " 0.041331358843932554,\n",
       " 0.006496089102308376,\n",
       " 0.00012451808198488]"
      ]
     },
     "execution_count": 104,
     "metadata": {},
     "output_type": "execute_result"
    }
   ],
   "source": [
    "sorted(pca_variance,reverse= True)"
   ]
  },
  {
   "cell_type": "code",
   "execution_count": 107,
   "id": "af909302",
   "metadata": {},
   "outputs": [
    {
     "data": {
      "text/plain": [
       "95.20480339717743"
      ]
     },
     "execution_count": 107,
     "metadata": {},
     "output_type": "execute_result"
    }
   ],
   "source": [
    "# if we take 6 values from the Principal components we get 95% of data\n",
    "sum(sorted(pca_variance,reverse= True)[:6]) *100"
   ]
  },
  {
   "cell_type": "code",
   "execution_count": 109,
   "id": "d4fca5e1",
   "metadata": {},
   "outputs": [
    {
     "data": {
      "text/plain": [
       "89.23295364141018"
      ]
     },
     "execution_count": 109,
     "metadata": {},
     "output_type": "execute_result"
    }
   ],
   "source": [
    "# if we take 5 values from the Principal components we get 89% of data\n",
    "sum(sorted(pca_variance,reverse= True)[:5]) *100"
   ]
  },
  {
   "cell_type": "code",
   "execution_count": 110,
   "id": "0595e221",
   "metadata": {},
   "outputs": [
    {
     "data": {
      "text/plain": [
       "99.33793928157068"
      ]
     },
     "execution_count": 110,
     "metadata": {},
     "output_type": "execute_result"
    }
   ],
   "source": [
    "# if we take 7 values from the Principal components we get 89% of data\n",
    "sum(sorted(pca_variance,reverse= True)[:7]) *100"
   ]
  },
  {
   "cell_type": "code",
   "execution_count": 111,
   "id": "fc01305c",
   "metadata": {},
   "outputs": [
    {
     "data": {
      "image/png": "[encoded data removed]",
      "text/plain": [
       "<Figure size 432x288 with 1 Axes>"
      ]
     },
     "metadata": {
      "needs_background": "light"
     },
     "output_type": "display_data"
    }
   ],
   "source": [
    "# Above hypothesis is also verified by the\n",
    "\n",
    "plt.plot(np.cumsum(pca_variance))\n",
    "plt.show()"
   ]
  },
  {
   "cell_type": "code",
   "execution_count": 112,
   "id": "fdebacd1",
   "metadata": {},
   "outputs": [
    {
     "data": {
      "text/plain": [
       "array([[-0.05921841, -1.18701074, -0.24152989,  0.74006973, -0.47343791,\n",
       "         0.75113315],\n",
       "       [-0.08724836, -1.17499077, -0.33774635,  0.54021308, -0.47783452,\n",
       "         0.61612723],\n",
       "       [ 0.18977839, -1.18525971, -0.21029641,  0.5376238 , -0.55394621,\n",
       "         0.68118396],\n",
       "       ...,\n",
       "       [-1.70876411,  3.00842509, -0.89491087, -0.07446978,  0.58988265,\n",
       "         1.15999092],\n",
       "       [-2.3507088 ,  2.47813472, -1.2120431 ,  0.22587863,  0.71706936,\n",
       "         0.93244467],\n",
       "       [-2.25376959,  2.74470934, -0.87415286,  0.1511437 ,  0.69792235,\n",
       "         1.13058724]])"
      ]
     },
     "execution_count": 112,
     "metadata": {},
     "output_type": "execute_result"
    }
   ],
   "source": [
    "# After zero down on the number of components we can create pca with the number of components\n",
    "from sklearn.decomposition import PCA\n",
    "pca_6= PCA(n_components=6)\n",
    "pc_df= pca_6.fit_transform(scaled_data_glass)\n",
    "pc_df"
   ]
  },
  {
   "cell_type": "code",
   "execution_count": 113,
   "id": "ec91fae6",
   "metadata": {},
   "outputs": [
    {
     "data": {
      "text/html": [
       "<div>\n",
       "<style scoped>\n",
       "    .dataframe tbody tr th:only-of-type {\n",
       "        vertical-align: middle;\n",
       "    }\n",
       "\n",
       "    .dataframe tbody tr th {\n",
       "        vertical-align: top;\n",
       "    }\n",
       "\n",
       "    .dataframe thead th {\n",
       "        text-align: right;\n",
       "    }\n",
       "</style>\n",
       "<table border=\"1\" class=\"dataframe\">\n",
       "  <thead>\n",
       "    <tr style=\"text-align: right;\">\n",
       "      <th></th>\n",
       "      <th>0</th>\n",
       "      <th>1</th>\n",
       "      <th>2</th>\n",
       "      <th>3</th>\n",
       "      <th>4</th>\n",
       "      <th>5</th>\n",
       "    </tr>\n",
       "  </thead>\n",
       "  <tbody>\n",
       "    <tr>\n",
       "      <th>0</th>\n",
       "      <td>-0.059218</td>\n",
       "      <td>-1.187011</td>\n",
       "      <td>-0.241530</td>\n",
       "      <td>0.740070</td>\n",
       "      <td>-0.473438</td>\n",
       "      <td>0.751133</td>\n",
       "    </tr>\n",
       "    <tr>\n",
       "      <th>1</th>\n",
       "      <td>-0.087248</td>\n",
       "      <td>-1.174991</td>\n",
       "      <td>-0.337746</td>\n",
       "      <td>0.540213</td>\n",
       "      <td>-0.477835</td>\n",
       "      <td>0.616127</td>\n",
       "    </tr>\n",
       "    <tr>\n",
       "      <th>2</th>\n",
       "      <td>0.189778</td>\n",
       "      <td>-1.185260</td>\n",
       "      <td>-0.210296</td>\n",
       "      <td>0.537624</td>\n",
       "      <td>-0.553946</td>\n",
       "      <td>0.681184</td>\n",
       "    </tr>\n",
       "    <tr>\n",
       "      <th>3</th>\n",
       "      <td>1.339123</td>\n",
       "      <td>-0.003426</td>\n",
       "      <td>-0.246790</td>\n",
       "      <td>-2.166832</td>\n",
       "      <td>-0.904555</td>\n",
       "      <td>-0.280366</td>\n",
       "    </tr>\n",
       "    <tr>\n",
       "      <th>4</th>\n",
       "      <td>0.493163</td>\n",
       "      <td>-0.387949</td>\n",
       "      <td>-0.545822</td>\n",
       "      <td>-1.155935</td>\n",
       "      <td>-0.590748</td>\n",
       "      <td>0.030288</td>\n",
       "    </tr>\n",
       "    <tr>\n",
       "      <th>...</th>\n",
       "      <td>...</td>\n",
       "      <td>...</td>\n",
       "      <td>...</td>\n",
       "      <td>...</td>\n",
       "      <td>...</td>\n",
       "      <td>...</td>\n",
       "    </tr>\n",
       "    <tr>\n",
       "      <th>180</th>\n",
       "      <td>-2.005495</td>\n",
       "      <td>2.348145</td>\n",
       "      <td>-0.471258</td>\n",
       "      <td>0.482037</td>\n",
       "      <td>0.026228</td>\n",
       "      <td>-0.508122</td>\n",
       "    </tr>\n",
       "    <tr>\n",
       "      <th>181</th>\n",
       "      <td>-2.379092</td>\n",
       "      <td>2.781045</td>\n",
       "      <td>0.035379</td>\n",
       "      <td>0.285853</td>\n",
       "      <td>0.254992</td>\n",
       "      <td>0.239301</td>\n",
       "    </tr>\n",
       "    <tr>\n",
       "      <th>182</th>\n",
       "      <td>-1.708764</td>\n",
       "      <td>3.008425</td>\n",
       "      <td>-0.894911</td>\n",
       "      <td>-0.074470</td>\n",
       "      <td>0.589883</td>\n",
       "      <td>1.159991</td>\n",
       "    </tr>\n",
       "    <tr>\n",
       "      <th>183</th>\n",
       "      <td>-2.350709</td>\n",
       "      <td>2.478135</td>\n",
       "      <td>-1.212043</td>\n",
       "      <td>0.225879</td>\n",
       "      <td>0.717069</td>\n",
       "      <td>0.932445</td>\n",
       "    </tr>\n",
       "    <tr>\n",
       "      <th>184</th>\n",
       "      <td>-2.253770</td>\n",
       "      <td>2.744709</td>\n",
       "      <td>-0.874153</td>\n",
       "      <td>0.151144</td>\n",
       "      <td>0.697922</td>\n",
       "      <td>1.130587</td>\n",
       "    </tr>\n",
       "  </tbody>\n",
       "</table>\n",
       "<p>185 rows × 6 columns</p>\n",
       "</div>"
      ],
      "text/plain": [
       "            0         1         2         3         4         5\n",
       "0   -0.059218 -1.187011 -0.241530  0.740070 -0.473438  0.751133\n",
       "1   -0.087248 -1.174991 -0.337746  0.540213 -0.477835  0.616127\n",
       "2    0.189778 -1.185260 -0.210296  0.537624 -0.553946  0.681184\n",
       "3    1.339123 -0.003426 -0.246790 -2.166832 -0.904555 -0.280366\n",
       "4    0.493163 -0.387949 -0.545822 -1.155935 -0.590748  0.030288\n",
       "..        ...       ...       ...       ...       ...       ...\n",
       "180 -2.005495  2.348145 -0.471258  0.482037  0.026228 -0.508122\n",
       "181 -2.379092  2.781045  0.035379  0.285853  0.254992  0.239301\n",
       "182 -1.708764  3.008425 -0.894911 -0.074470  0.589883  1.159991\n",
       "183 -2.350709  2.478135 -1.212043  0.225879  0.717069  0.932445\n",
       "184 -2.253770  2.744709 -0.874153  0.151144  0.697922  1.130587\n",
       "\n",
       "[185 rows x 6 columns]"
      ]
     },
     "execution_count": 113,
     "metadata": {},
     "output_type": "execute_result"
    }
   ],
   "source": [
    "pd.DataFrame(pc_df)"
   ]
  }
 ],
 "metadata": {
  "kernelspec": {
   "display_name": "Python 3 (ipykernel)",
   "language": "python",
   "name": "python3"
  },
  "language_info": {
   "codemirror_mode": {
    "name": "ipython",
    "version": 3
   },
   "file_extension": ".py",
   "mimetype": "text/x-python",
   "name": "python",
   "nbconvert_exporter": "python",
   "pygments_lexer": "ipython3",
   "version": "3.9.7"
  }
 },
 "nbformat": 4,
 "nbformat_minor": 5
}
